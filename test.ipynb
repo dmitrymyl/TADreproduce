{
 "cells": [
  {
   "cell_type": "code",
   "execution_count": 1,
   "metadata": {},
   "outputs": [
    {
     "name": "stderr",
     "output_type": "stream",
     "text": [
      "/home/dmitry/.local/lib/python3.5/site-packages/h5py/__init__.py:36: FutureWarning: Conversion of the second argument of issubdtype from `float` to `np.floating` is deprecated. In future, it will be treated as `np.float64 == np.dtype(float).type`.\n",
      "  from ._conv import register_converters as _register_converters\n"
     ]
    }
   ],
   "source": [
    "import numpy as np\n",
    "import pandas as pd\n",
    "import matplotlib.pyplot as plt\n",
    "import cooler\n",
    "import lavaburst"
   ]
  },
  {
   "cell_type": "code",
   "execution_count": 2,
   "metadata": {},
   "outputs": [],
   "source": [
    "import TADcalling\n",
    "from TADcalling.CallerClasses import *"
   ]
  },
  {
   "cell_type": "code",
   "execution_count": 3,
   "metadata": {},
   "outputs": [],
   "source": [
    "hc = HiCsegCaller(['S2'], ['./data/S2.20000.cool'], 'cool', assembly='dm3', resolution=20000, balance=True, chr='chr2L')"
   ]
  },
  {
   "cell_type": "code",
   "execution_count": 10,
   "metadata": {},
   "outputs": [
    {
     "data": {
      "text/plain": [
       "{'S2': {'B': 375\t712\t1\n",
       "  712\t1151\t1, 'P': 375\t712\t1\n",
       "  712\t1069\t1\n",
       "  1069\t1077\t1\n",
       "  1077\t1151\t1}}"
      ]
     },
     "execution_count": 10,
     "metadata": {},
     "output_type": "execute_result"
    }
   ],
   "source": [
    "hc.call(distr_model=\"P\", tune=False)"
   ]
  },
  {
   "cell_type": "code",
   "execution_count": 7,
   "metadata": {},
   "outputs": [],
   "source": [
    "IS = InsulationCaller(['S2'], ['./data/S2.20000.cool'], 'cool', assembly='dm3', resolution=20000, balance=True, chr='chr2L')"
   ]
  },
  {
   "cell_type": "code",
   "execution_count": 8,
   "metadata": {},
   "outputs": [
    {
     "data": {
      "text/plain": [
       "{'S2': {(2, 0.5): 785\t1008\t1\n",
       "  1007\t1011\t1\n",
       "  1010\t1070\t1\n",
       "  1076\t1137\t1\n",
       "  1136\t1140\t1}}"
      ]
     },
     "execution_count": 8,
     "metadata": {},
     "output_type": "execute_result"
    }
   ],
   "source": [
    "IS.call(2, 0.5)"
   ]
  },
  {
   "cell_type": "code",
   "execution_count": 6,
   "metadata": {},
   "outputs": [],
   "source": [
    "DI = DirectionalityCaller(['S2'], ['./data/S2.20000.cool'], 'cool', assembly='dm3', resolution=20000, balance=True, chr='chr2L')"
   ]
  },
  {
   "cell_type": "code",
   "execution_count": 9,
   "metadata": {},
   "outputs": [
    {
     "data": {
      "text/plain": [
       "{'S2': {(2, 0.5): 17\t48\t1\n",
       "  49\t130\t1\n",
       "  131\t229\t1\n",
       "  230\t400\t1\n",
       "  401\t662\t1\n",
       "  663\t782\t1\n",
       "  785\t966\t1\n",
       "  967\t988\t1\n",
       "  989\t1008\t1\n",
       "  1010\t1021\t1\n",
       "  1022\t1050\t1\n",
       "  1051\t1070\t1\n",
       "  1076\t1137\t1\n",
       "  1139\t1149\t1}}"
      ]
     },
     "execution_count": 9,
     "metadata": {},
     "output_type": "execute_result"
    }
   ],
   "source": [
    "DI.call(2, 0.5)"
   ]
  },
  {
   "cell_type": "code",
   "execution_count": 3,
   "metadata": {},
   "outputs": [],
   "source": [
    "lc = LavaburstCaller(['S2'], ['./data/S2.20000.cool'], 'cool', assembly='dm3', resolution=20000, balance=True, chr='chr2L')"
   ]
  },
  {
   "cell_type": "code",
   "execution_count": 4,
   "metadata": {},
   "outputs": [
    {
     "data": {
      "text/plain": [
       "{'S2': {0.9: 0\t6\t1\n",
       "  6\t15\t1\n",
       "  21\t27\t1\n",
       "  27\t83\t1\n",
       "  84\t108\t1\n",
       "  108\t112\t1\n",
       "  112\t131\t1\n",
       "  132\t137\t1\n",
       "  137\t143\t1\n",
       "  143\t149\t1\n",
       "  152\t173\t1\n",
       "  173\t183\t1\n",
       "  183\t222\t1\n",
       "  223\t230\t1\n",
       "  231\t241\t1\n",
       "  241\t248\t1\n",
       "  248\t253\t1\n",
       "  253\t264\t1\n",
       "  266\t277\t1\n",
       "  277\t298\t1\n",
       "  299\t304\t1\n",
       "  304\t324\t1\n",
       "  324\t333\t1\n",
       "  333\t348\t1\n",
       "  348\t352\t1\n",
       "  352\t361\t1\n",
       "  361\t371\t1\n",
       "  371\t375\t1\n",
       "  375\t391\t1\n",
       "  391\t400\t1\n",
       "  405\t412\t1\n",
       "  412\t417\t1\n",
       "  417\t421\t1\n",
       "  421\t427\t1\n",
       "  427\t449\t1\n",
       "  449\t473\t1\n",
       "  473\t485\t1\n",
       "  485\t495\t1\n",
       "  496\t511\t1\n",
       "  511\t521\t1\n",
       "  521\t525\t1\n",
       "  525\t537\t1\n",
       "  537\t549\t1\n",
       "  549\t557\t1\n",
       "  557\t600\t1\n",
       "  603\t622\t1\n",
       "  622\t627\t1\n",
       "  627\t650\t1\n",
       "  650\t660\t1\n",
       "  664\t669\t1\n",
       "  669\t677\t1\n",
       "  677\t682\t1\n",
       "  682\t690\t1\n",
       "  691\t695\t1\n",
       "  695\t714\t1\n",
       "  714\t753\t1\n",
       "  753\t783\t1\n",
       "  786\t813\t1\n",
       "  815\t826\t1\n",
       "  826\t837\t1\n",
       "  837\t934\t1\n",
       "  934\t949\t1\n",
       "  949\t958\t1\n",
       "  958\t967\t1\n",
       "  971\t979\t1\n",
       "  979\t989\t1\n",
       "  990\t1004\t1\n",
       "  1004\t1009\t1\n",
       "  1011\t1022\t1\n",
       "  1023\t1039\t1\n",
       "  1039\t1046\t1\n",
       "  1046\t1051\t1\n",
       "  1052\t1057\t1\n",
       "  1057\t1062\t1\n",
       "  1062\t1071\t1\n",
       "  1077\t1126\t1\n",
       "  1126\t1151\t1}}"
      ]
     },
     "execution_count": 4,
     "metadata": {},
     "output_type": "execute_result"
    }
   ],
   "source": [
    "lc.call(0.9)"
   ]
  },
  {
   "cell_type": "code",
   "execution_count": 5,
   "metadata": {},
   "outputs": [
    {
     "data": {
      "text/plain": [
       "TADcalling.DataClasses.GenomicRanges"
      ]
     },
     "execution_count": 5,
     "metadata": {},
     "output_type": "execute_result"
    }
   ],
   "source": [
    "GenomicRanges"
   ]
  },
  {
   "cell_type": "code",
   "execution_count": 6,
   "metadata": {},
   "outputs": [],
   "source": [
    "lc.convert_files(\"txt.gz\")"
   ]
  },
  {
   "cell_type": "code",
   "execution_count": 18,
   "metadata": {},
   "outputs": [
    {
     "data": {
      "text/plain": [
       "{'assembly': 'dm3',\n",
       " 'balance': False,\n",
       " 'chr': 'chr2L',\n",
       " 'data_formats': ['cool', 'txt.gz', 'txt.gz'],\n",
       " 'files_cool': ['./data/S2.20000.cool'],\n",
       " 'files_txt.gz': ['./data/S2.20000.chr2L.txt.gz'],\n",
       " 'labels': ['S2'],\n",
       " 'resolution': 1000,\n",
       " 'size': 0}"
      ]
     },
     "execution_count": 18,
     "metadata": {},
     "output_type": "execute_result"
    }
   ],
   "source": [
    "lc._metadata"
   ]
  },
  {
   "cell_type": "code",
   "execution_count": 7,
   "metadata": {},
   "outputs": [],
   "source": [
    "acpp = ArmatusCaller(['S2'], ['./data/S2.20000.cool'], 'cool', assembly='dm3', resolution=20000, balance=True, chr='chr2L')"
   ]
  },
  {
   "cell_type": "code",
   "execution_count": 8,
   "metadata": {},
   "outputs": [
    {
     "data": {
      "text/plain": [
       "{'S2': {-0.3: array([[   6,   14],\n",
       "         [  26,  400],\n",
       "         [ 483,  489],\n",
       "         [ 536,  542],\n",
       "         [ 598,  645],\n",
       "         [ 658,  662],\n",
       "         [ 682,  716],\n",
       "         [ 816,  833],\n",
       "         [ 900,  907],\n",
       "         [ 937,  941],\n",
       "         [ 968, 1050],\n",
       "         [1116, 1127]])}}"
      ]
     },
     "execution_count": 8,
     "metadata": {},
     "output_type": "execute_result"
    }
   ],
   "source": [
    "acpp.call(-0.3)"
   ]
  },
  {
   "cell_type": "code",
   "execution_count": 10,
   "metadata": {},
   "outputs": [
    {
     "name": "stdout",
     "output_type": "stream",
     "text": [
      "abcdefghi\n"
     ]
    }
   ],
   "source": [
    "a = \"abc\" \\\n",
    "    \"def\" \\\n",
    "    \"ghi\"\n",
    "print(a)"
   ]
  }
 ],
 "metadata": {
  "kernelspec": {
   "display_name": "Python 3",
   "language": "python",
   "name": "python3"
  },
  "language_info": {
   "codemirror_mode": {
    "name": "ipython",
    "version": 3
   },
   "file_extension": ".py",
   "mimetype": "text/x-python",
   "name": "python",
   "nbconvert_exporter": "python",
   "pygments_lexer": "ipython3",
   "version": "3.5.2"
  }
 },
 "nbformat": 4,
 "nbformat_minor": 2
}
