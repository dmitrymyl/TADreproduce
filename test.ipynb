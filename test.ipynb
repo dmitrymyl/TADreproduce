{
 "cells": [
  {
   "cell_type": "code",
   "execution_count": 1,
   "metadata": {},
   "outputs": [
    {
     "name": "stderr",
     "output_type": "stream",
     "text": [
      "/home/dmitry/.local/lib/python3.5/site-packages/h5py/__init__.py:36: FutureWarning: Conversion of the second argument of issubdtype from `float` to `np.floating` is deprecated. In future, it will be treated as `np.float64 == np.dtype(float).type`.\n",
      "  from ._conv import register_converters as _register_converters\n"
     ]
    }
   ],
   "source": [
    "import numpy as np\n",
    "import pandas as pd\n",
    "import matplotlib.pyplot as plt\n",
    "import cooler\n",
    "import lavaburst"
   ]
  },
  {
   "cell_type": "code",
   "execution_count": 2,
   "metadata": {},
   "outputs": [],
   "source": [
    "import TADcalling\n",
    "from TADcalling.CallerClasses import *"
   ]
  },
  {
   "cell_type": "code",
   "execution_count": 7,
   "metadata": {},
   "outputs": [],
   "source": [
    "lc = LavaburstCaller(['S2'], ['./data/S2.20000.cool'], 'cool', assembly='dm3', resolution=20000, balance=True, chr='chr2L')"
   ]
  },
  {
   "cell_type": "code",
   "execution_count": 12,
   "metadata": {},
   "outputs": [
    {
     "data": {
      "text/plain": [
       "array([[   0,   16],\n",
       "       [  19,   83],\n",
       "       [  86,   94],\n",
       "       [  99,  103],\n",
       "       [ 123,  128],\n",
       "       [ 139,  143],\n",
       "       [ 143,  149],\n",
       "       [ 152,  157],\n",
       "       [ 158,  170],\n",
       "       [ 174,  183],\n",
       "       [ 183,  190],\n",
       "       [ 196,  212],\n",
       "       [ 218,  222],\n",
       "       [ 225,  241],\n",
       "       [ 242,  248],\n",
       "       [ 254,  266],\n",
       "       [ 268,  274],\n",
       "       [ 276,  298],\n",
       "       [ 299,  304],\n",
       "       [ 304,  323],\n",
       "       [ 324,  331],\n",
       "       [ 333,  348],\n",
       "       [ 348,  352],\n",
       "       [ 352,  372],\n",
       "       [ 376,  390],\n",
       "       [ 391,  398],\n",
       "       [ 402,  486],\n",
       "       [ 487,  495],\n",
       "       [ 497,  501],\n",
       "       [ 501,  510],\n",
       "       [ 511,  520],\n",
       "       [ 521,  538],\n",
       "       [ 538,  542],\n",
       "       [ 543,  549],\n",
       "       [ 549,  557],\n",
       "       [ 557,  564],\n",
       "       [ 568,  573],\n",
       "       [ 574,  598],\n",
       "       [ 605,  622],\n",
       "       [ 622,  626],\n",
       "       [ 626,  630],\n",
       "       [ 631,  635],\n",
       "       [ 635,  650],\n",
       "       [ 650,  660],\n",
       "       [ 664,  682],\n",
       "       [ 695,  701],\n",
       "       [ 708,  713],\n",
       "       [ 717,  752],\n",
       "       [ 754,  783],\n",
       "       [ 789,  812],\n",
       "       [ 812,  816],\n",
       "       [ 817,  825],\n",
       "       [ 825,  831],\n",
       "       [ 837,  873],\n",
       "       [ 874,  934],\n",
       "       [ 934,  948],\n",
       "       [ 949,  958],\n",
       "       [ 958,  967],\n",
       "       [ 970,  976],\n",
       "       [ 978, 1006],\n",
       "       [1011, 1021],\n",
       "       [1023, 1036],\n",
       "       [1036, 1040],\n",
       "       [1040, 1048],\n",
       "       [1053, 1058],\n",
       "       [1059, 1070],\n",
       "       [1077, 1118],\n",
       "       [1121, 1125],\n",
       "       [1128, 1151]])"
      ]
     },
     "execution_count": 12,
     "metadata": {},
     "output_type": "execute_result"
    }
   ],
   "source": [
    "lc._segmentations[\"S2\"][0.9].data"
   ]
  },
  {
   "cell_type": "code",
   "execution_count": 5,
   "metadata": {},
   "outputs": [
    {
     "data": {
      "text/plain": [
       "TADcalling.DataClasses.GenomicRanges"
      ]
     },
     "execution_count": 5,
     "metadata": {},
     "output_type": "execute_result"
    }
   ],
   "source": [
    "GenomicRanges"
   ]
  },
  {
   "cell_type": "code",
   "execution_count": 13,
   "metadata": {},
   "outputs": [],
   "source": [
    "lc.convert_files(\"txt.gz\")"
   ]
  },
  {
   "cell_type": "code",
   "execution_count": 18,
   "metadata": {},
   "outputs": [
    {
     "data": {
      "text/plain": [
       "{'assembly': 'dm3',\n",
       " 'balance': False,\n",
       " 'chr': 'chr2L',\n",
       " 'data_formats': ['cool', 'txt.gz', 'txt.gz'],\n",
       " 'files_cool': ['./data/S2.20000.cool'],\n",
       " 'files_txt.gz': ['./data/S2.20000.chr2L.txt.gz'],\n",
       " 'labels': ['S2'],\n",
       " 'resolution': 1000,\n",
       " 'size': 0}"
      ]
     },
     "execution_count": 18,
     "metadata": {},
     "output_type": "execute_result"
    }
   ],
   "source": [
    "lc._metadata"
   ]
  },
  {
   "cell_type": "code",
   "execution_count": 3,
   "metadata": {},
   "outputs": [],
   "source": [
    "acpp = ArmatusCaller(['S2'], ['./data/S2.20000.cool'], 'cool', assembly='dm3', resolution=20000, balance=True, chr='chr2L')"
   ]
  },
  {
   "cell_type": "code",
   "execution_count": 7,
   "metadata": {},
   "outputs": [
    {
     "data": {
      "text/plain": [
       "{'S2': {-0.3: array([[   0,  711],\n",
       "         [ 714, 1070],\n",
       "         [1077, 1148]]), 0.9: array([[   0,    5],\n",
       "         [   6,   14],\n",
       "         [  21,   26],\n",
       "         [  27,   82],\n",
       "         [  85,  107],\n",
       "         [ 112,  130],\n",
       "         [ 137,  142],\n",
       "         [ 143,  148],\n",
       "         [ 152,  172],\n",
       "         [ 173,  182],\n",
       "         [ 183,  218],\n",
       "         [ 223,  228],\n",
       "         [ 231,  240],\n",
       "         [ 241,  247],\n",
       "         [ 248,  252],\n",
       "         [ 253,  263],\n",
       "         [ 266,  276],\n",
       "         [ 277,  298],\n",
       "         [ 299,  303],\n",
       "         [ 304,  323],\n",
       "         [ 324,  332],\n",
       "         [ 333,  347],\n",
       "         [ 352,  360],\n",
       "         [ 361,  370],\n",
       "         [ 375,  390],\n",
       "         [ 391,  399],\n",
       "         [ 405,  411],\n",
       "         [ 412,  416],\n",
       "         [ 421,  426],\n",
       "         [ 427,  448],\n",
       "         [ 449,  472],\n",
       "         [ 473,  484],\n",
       "         [ 485,  494],\n",
       "         [ 495,  510],\n",
       "         [ 511,  520],\n",
       "         [ 525,  536],\n",
       "         [ 537,  548],\n",
       "         [ 549,  556],\n",
       "         [ 557,  599],\n",
       "         [ 603,  621],\n",
       "         [ 622,  626],\n",
       "         [ 627,  649],\n",
       "         [ 650,  659],\n",
       "         [ 665,  676],\n",
       "         [ 677,  681],\n",
       "         [ 682,  689],\n",
       "         [ 690,  695],\n",
       "         [ 696,  713],\n",
       "         [ 714,  752],\n",
       "         [ 753,  782],\n",
       "         [ 786,  812],\n",
       "         [ 815,  825],\n",
       "         [ 826,  836],\n",
       "         [ 837,  933],\n",
       "         [ 934,  948],\n",
       "         [ 949,  957],\n",
       "         [ 958,  966],\n",
       "         [ 971,  978],\n",
       "         [ 979,  988],\n",
       "         [ 991, 1003],\n",
       "         [1004, 1008],\n",
       "         [1011, 1020],\n",
       "         [1023, 1038],\n",
       "         [1039, 1045],\n",
       "         [1046, 1050],\n",
       "         [1057, 1061],\n",
       "         [1062, 1070],\n",
       "         [1077, 1137],\n",
       "         [1140, 1148]])}}"
      ]
     },
     "execution_count": 7,
     "metadata": {},
     "output_type": "execute_result"
    }
   ],
   "source": [
    "acpp.call(-0.3)"
   ]
  }
 ],
 "metadata": {
  "kernelspec": {
   "display_name": "Python 3",
   "language": "python",
   "name": "python3"
  },
  "language_info": {
   "codemirror_mode": {
    "name": "ipython",
    "version": 3
   },
   "file_extension": ".py",
   "mimetype": "text/x-python",
   "name": "python",
   "nbconvert_exporter": "python",
   "pygments_lexer": "ipython3",
   "version": "3.5.2"
  }
 },
 "nbformat": 4,
 "nbformat_minor": 2
}
