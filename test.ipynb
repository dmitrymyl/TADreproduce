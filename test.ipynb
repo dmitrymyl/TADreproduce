{
 "cells": [
  {
   "cell_type": "code",
   "execution_count": 1,
   "metadata": {},
   "outputs": [
    {
     "name": "stderr",
     "output_type": "stream",
     "text": [
      "/home/dmitry/.local/lib/python3.5/site-packages/h5py/__init__.py:36: FutureWarning: Conversion of the second argument of issubdtype from `float` to `np.floating` is deprecated. In future, it will be treated as `np.float64 == np.dtype(float).type`.\n",
      "  from ._conv import register_converters as _register_converters\n"
     ]
    }
   ],
   "source": [
    "import numpy as np\n",
    "import pandas as pd\n",
    "import matplotlib.pyplot as plt\n",
    "import cooler\n",
    "import lavaburst"
   ]
  },
  {
   "cell_type": "code",
   "execution_count": 2,
   "metadata": {},
   "outputs": [],
   "source": [
    "import TADcalling\n",
    "from TADcalling.CallerClasses import *"
   ]
  },
  {
   "cell_type": "code",
   "execution_count": 3,
   "metadata": {},
   "outputs": [],
   "source": [
    "hc = HiCsegCaller(['S2'], ['./data/S2.20000.cool'], 'cool', assembly='dm3', resolution=20000, balance=True, chr='chr2L')"
   ]
  },
  {
   "cell_type": "code",
   "execution_count": 10,
   "metadata": {},
   "outputs": [
    {
     "data": {
      "text/plain": [
       "{'S2': {'B': 375\t712\t1\n",
       "  712\t1151\t1, 'P': 375\t712\t1\n",
       "  712\t1069\t1\n",
       "  1069\t1077\t1\n",
       "  1077\t1151\t1}}"
      ]
     },
     "execution_count": 10,
     "metadata": {},
     "output_type": "execute_result"
    }
   ],
   "source": [
    "hc.call(distr_model=\"P\", tune=False)"
   ]
  },
  {
   "cell_type": "code",
   "execution_count": 7,
   "metadata": {},
   "outputs": [],
   "source": [
    "IS = InsulationCaller(['S2'], ['./data/S2.20000.cool'], 'cool', assembly='dm3', resolution=20000, balance=True, chr='chr2L')"
   ]
  },
  {
   "cell_type": "code",
   "execution_count": 8,
   "metadata": {},
   "outputs": [
    {
     "data": {
      "text/plain": [
       "{'S2': {(2, 0.5): 785\t1008\t1\n",
       "  1007\t1011\t1\n",
       "  1010\t1070\t1\n",
       "  1076\t1137\t1\n",
       "  1136\t1140\t1}}"
      ]
     },
     "execution_count": 8,
     "metadata": {},
     "output_type": "execute_result"
    }
   ],
   "source": [
    "IS.call(2, 0.5)"
   ]
  },
  {
   "cell_type": "code",
   "execution_count": 6,
   "metadata": {},
   "outputs": [],
   "source": [
    "DI = DirectionalityCaller(['S2'], ['./data/S2.20000.cool'], 'cool', assembly='dm3', resolution=20000, balance=True, chr='chr2L')"
   ]
  },
  {
   "cell_type": "code",
   "execution_count": 9,
   "metadata": {},
   "outputs": [
    {
     "data": {
      "text/plain": [
       "{'S2': {(2, 0.5): 17\t48\t1\n",
       "  49\t130\t1\n",
       "  131\t229\t1\n",
       "  230\t400\t1\n",
       "  401\t662\t1\n",
       "  663\t782\t1\n",
       "  785\t966\t1\n",
       "  967\t988\t1\n",
       "  989\t1008\t1\n",
       "  1010\t1021\t1\n",
       "  1022\t1050\t1\n",
       "  1051\t1070\t1\n",
       "  1076\t1137\t1\n",
       "  1139\t1149\t1}}"
      ]
     },
     "execution_count": 9,
     "metadata": {},
     "output_type": "execute_result"
    }
   ],
   "source": [
    "DI.call(2, 0.5)"
   ]
  },
  {
   "cell_type": "code",
   "execution_count": 3,
   "metadata": {},
   "outputs": [],
   "source": [
    "lc = LavaburstCaller(['S2'], ['./data/S2.20000.cool'], 'cool', assembly='dm3', resolution=20000, balance=True, chr='chr2L')"
   ]
  },
  {
   "cell_type": "markdown",
   "metadata": {},
   "source": [
    "DEVELOPMENT OF MrTADFinder"
   ]
  },
  {
   "cell_type": "code",
   "execution_count": 6,
   "metadata": {},
   "outputs": [],
   "source": [
    "c = cooler.Cooler('./data/S2.20000.cool')"
   ]
  },
  {
   "cell_type": "code",
   "execution_count": 29,
   "metadata": {},
   "outputs": [],
   "source": [
    "sparse = c.matrix(balance=True, as_pixels=True).fetch('chr2L')"
   ]
  },
  {
   "cell_type": "code",
   "execution_count": 58,
   "metadata": {},
   "outputs": [],
   "source": [
    "sparse.loc[:, \"bin1_id\":\"bin2_id\"] += 1"
   ]
  },
  {
   "cell_type": "code",
   "execution_count": 59,
   "metadata": {},
   "outputs": [
    {
     "data": {
      "text/html": [
       "<div>\n",
       "<style scoped>\n",
       "    .dataframe tbody tr th:only-of-type {\n",
       "        vertical-align: middle;\n",
       "    }\n",
       "\n",
       "    .dataframe tbody tr th {\n",
       "        vertical-align: top;\n",
       "    }\n",
       "\n",
       "    .dataframe thead th {\n",
       "        text-align: right;\n",
       "    }\n",
       "</style>\n",
       "<table border=\"1\" class=\"dataframe\">\n",
       "  <thead>\n",
       "    <tr style=\"text-align: right;\">\n",
       "      <th></th>\n",
       "      <th>bin1_id</th>\n",
       "      <th>bin2_id</th>\n",
       "      <th>count</th>\n",
       "      <th>balanced</th>\n",
       "    </tr>\n",
       "  </thead>\n",
       "  <tbody>\n",
       "    <tr>\n",
       "      <th>0</th>\n",
       "      <td>1</td>\n",
       "      <td>1</td>\n",
       "      <td>2859</td>\n",
       "      <td>0.892852</td>\n",
       "    </tr>\n",
       "    <tr>\n",
       "      <th>1</th>\n",
       "      <td>1</td>\n",
       "      <td>2</td>\n",
       "      <td>382</td>\n",
       "      <td>0.117808</td>\n",
       "    </tr>\n",
       "    <tr>\n",
       "      <th>2</th>\n",
       "      <td>1</td>\n",
       "      <td>3</td>\n",
       "      <td>315</td>\n",
       "      <td>0.076218</td>\n",
       "    </tr>\n",
       "    <tr>\n",
       "      <th>3</th>\n",
       "      <td>1</td>\n",
       "      <td>4</td>\n",
       "      <td>251</td>\n",
       "      <td>0.051895</td>\n",
       "    </tr>\n",
       "    <tr>\n",
       "      <th>4</th>\n",
       "      <td>1</td>\n",
       "      <td>5</td>\n",
       "      <td>109</td>\n",
       "      <td>0.026401</td>\n",
       "    </tr>\n",
       "    <tr>\n",
       "      <th>5</th>\n",
       "      <td>1</td>\n",
       "      <td>6</td>\n",
       "      <td>61</td>\n",
       "      <td>0.018097</td>\n",
       "    </tr>\n",
       "    <tr>\n",
       "      <th>6</th>\n",
       "      <td>1</td>\n",
       "      <td>7</td>\n",
       "      <td>53</td>\n",
       "      <td>0.019344</td>\n",
       "    </tr>\n",
       "    <tr>\n",
       "      <th>7</th>\n",
       "      <td>1</td>\n",
       "      <td>8</td>\n",
       "      <td>39</td>\n",
       "      <td>0.013315</td>\n",
       "    </tr>\n",
       "    <tr>\n",
       "      <th>8</th>\n",
       "      <td>1</td>\n",
       "      <td>9</td>\n",
       "      <td>16</td>\n",
       "      <td>0.005216</td>\n",
       "    </tr>\n",
       "    <tr>\n",
       "      <th>9</th>\n",
       "      <td>1</td>\n",
       "      <td>10</td>\n",
       "      <td>34</td>\n",
       "      <td>0.009732</td>\n",
       "    </tr>\n",
       "    <tr>\n",
       "      <th>10</th>\n",
       "      <td>1</td>\n",
       "      <td>11</td>\n",
       "      <td>35</td>\n",
       "      <td>0.008242</td>\n",
       "    </tr>\n",
       "    <tr>\n",
       "      <th>11</th>\n",
       "      <td>1</td>\n",
       "      <td>12</td>\n",
       "      <td>26</td>\n",
       "      <td>0.010482</td>\n",
       "    </tr>\n",
       "    <tr>\n",
       "      <th>12</th>\n",
       "      <td>1</td>\n",
       "      <td>13</td>\n",
       "      <td>20</td>\n",
       "      <td>0.005453</td>\n",
       "    </tr>\n",
       "    <tr>\n",
       "      <th>13</th>\n",
       "      <td>1</td>\n",
       "      <td>14</td>\n",
       "      <td>45</td>\n",
       "      <td>0.010172</td>\n",
       "    </tr>\n",
       "    <tr>\n",
       "      <th>14</th>\n",
       "      <td>1</td>\n",
       "      <td>15</td>\n",
       "      <td>13</td>\n",
       "      <td>0.007298</td>\n",
       "    </tr>\n",
       "    <tr>\n",
       "      <th>15</th>\n",
       "      <td>1</td>\n",
       "      <td>16</td>\n",
       "      <td>39</td>\n",
       "      <td>0.007460</td>\n",
       "    </tr>\n",
       "    <tr>\n",
       "      <th>16</th>\n",
       "      <td>1</td>\n",
       "      <td>17</td>\n",
       "      <td>11</td>\n",
       "      <td>0.003765</td>\n",
       "    </tr>\n",
       "    <tr>\n",
       "      <th>17</th>\n",
       "      <td>1</td>\n",
       "      <td>19</td>\n",
       "      <td>1</td>\n",
       "      <td>0.000609</td>\n",
       "    </tr>\n",
       "    <tr>\n",
       "      <th>18</th>\n",
       "      <td>1</td>\n",
       "      <td>20</td>\n",
       "      <td>23</td>\n",
       "      <td>0.005478</td>\n",
       "    </tr>\n",
       "    <tr>\n",
       "      <th>19</th>\n",
       "      <td>1</td>\n",
       "      <td>21</td>\n",
       "      <td>32</td>\n",
       "      <td>0.004712</td>\n",
       "    </tr>\n",
       "    <tr>\n",
       "      <th>20</th>\n",
       "      <td>1</td>\n",
       "      <td>22</td>\n",
       "      <td>38</td>\n",
       "      <td>0.006464</td>\n",
       "    </tr>\n",
       "    <tr>\n",
       "      <th>21</th>\n",
       "      <td>1</td>\n",
       "      <td>23</td>\n",
       "      <td>49</td>\n",
       "      <td>0.004678</td>\n",
       "    </tr>\n",
       "    <tr>\n",
       "      <th>22</th>\n",
       "      <td>1</td>\n",
       "      <td>24</td>\n",
       "      <td>29</td>\n",
       "      <td>0.003622</td>\n",
       "    </tr>\n",
       "    <tr>\n",
       "      <th>23</th>\n",
       "      <td>1</td>\n",
       "      <td>25</td>\n",
       "      <td>68</td>\n",
       "      <td>0.004465</td>\n",
       "    </tr>\n",
       "    <tr>\n",
       "      <th>24</th>\n",
       "      <td>1</td>\n",
       "      <td>26</td>\n",
       "      <td>54</td>\n",
       "      <td>0.004930</td>\n",
       "    </tr>\n",
       "    <tr>\n",
       "      <th>25</th>\n",
       "      <td>1</td>\n",
       "      <td>27</td>\n",
       "      <td>9</td>\n",
       "      <td>0.008933</td>\n",
       "    </tr>\n",
       "    <tr>\n",
       "      <th>26</th>\n",
       "      <td>1</td>\n",
       "      <td>28</td>\n",
       "      <td>35</td>\n",
       "      <td>0.006244</td>\n",
       "    </tr>\n",
       "    <tr>\n",
       "      <th>27</th>\n",
       "      <td>1</td>\n",
       "      <td>29</td>\n",
       "      <td>12</td>\n",
       "      <td>0.007260</td>\n",
       "    </tr>\n",
       "    <tr>\n",
       "      <th>28</th>\n",
       "      <td>1</td>\n",
       "      <td>30</td>\n",
       "      <td>32</td>\n",
       "      <td>0.006072</td>\n",
       "    </tr>\n",
       "    <tr>\n",
       "      <th>29</th>\n",
       "      <td>1</td>\n",
       "      <td>31</td>\n",
       "      <td>13</td>\n",
       "      <td>0.003540</td>\n",
       "    </tr>\n",
       "    <tr>\n",
       "      <th>...</th>\n",
       "      <td>...</td>\n",
       "      <td>...</td>\n",
       "      <td>...</td>\n",
       "      <td>...</td>\n",
       "    </tr>\n",
       "    <tr>\n",
       "      <th>316526</th>\n",
       "      <td>1143</td>\n",
       "      <td>1150</td>\n",
       "      <td>14</td>\n",
       "      <td>0.019531</td>\n",
       "    </tr>\n",
       "    <tr>\n",
       "      <th>316527</th>\n",
       "      <td>1144</td>\n",
       "      <td>1144</td>\n",
       "      <td>2739</td>\n",
       "      <td>0.706628</td>\n",
       "    </tr>\n",
       "    <tr>\n",
       "      <th>316528</th>\n",
       "      <td>1144</td>\n",
       "      <td>1145</td>\n",
       "      <td>147</td>\n",
       "      <td>0.030676</td>\n",
       "    </tr>\n",
       "    <tr>\n",
       "      <th>316529</th>\n",
       "      <td>1144</td>\n",
       "      <td>1146</td>\n",
       "      <td>137</td>\n",
       "      <td>0.027872</td>\n",
       "    </tr>\n",
       "    <tr>\n",
       "      <th>316530</th>\n",
       "      <td>1144</td>\n",
       "      <td>1147</td>\n",
       "      <td>95</td>\n",
       "      <td>0.024491</td>\n",
       "    </tr>\n",
       "    <tr>\n",
       "      <th>316531</th>\n",
       "      <td>1144</td>\n",
       "      <td>1148</td>\n",
       "      <td>41</td>\n",
       "      <td>0.021122</td>\n",
       "    </tr>\n",
       "    <tr>\n",
       "      <th>316532</th>\n",
       "      <td>1144</td>\n",
       "      <td>1149</td>\n",
       "      <td>116</td>\n",
       "      <td>0.028855</td>\n",
       "    </tr>\n",
       "    <tr>\n",
       "      <th>316533</th>\n",
       "      <td>1144</td>\n",
       "      <td>1150</td>\n",
       "      <td>36</td>\n",
       "      <td>0.021932</td>\n",
       "    </tr>\n",
       "    <tr>\n",
       "      <th>316534</th>\n",
       "      <td>1145</td>\n",
       "      <td>1145</td>\n",
       "      <td>3315</td>\n",
       "      <td>0.559558</td>\n",
       "    </tr>\n",
       "    <tr>\n",
       "      <th>316535</th>\n",
       "      <td>1145</td>\n",
       "      <td>1146</td>\n",
       "      <td>285</td>\n",
       "      <td>0.046900</td>\n",
       "    </tr>\n",
       "    <tr>\n",
       "      <th>316536</th>\n",
       "      <td>1145</td>\n",
       "      <td>1147</td>\n",
       "      <td>148</td>\n",
       "      <td>0.030862</td>\n",
       "    </tr>\n",
       "    <tr>\n",
       "      <th>316537</th>\n",
       "      <td>1145</td>\n",
       "      <td>1148</td>\n",
       "      <td>57</td>\n",
       "      <td>0.023753</td>\n",
       "    </tr>\n",
       "    <tr>\n",
       "      <th>316538</th>\n",
       "      <td>1145</td>\n",
       "      <td>1149</td>\n",
       "      <td>131</td>\n",
       "      <td>0.026359</td>\n",
       "    </tr>\n",
       "    <tr>\n",
       "      <th>316539</th>\n",
       "      <td>1145</td>\n",
       "      <td>1150</td>\n",
       "      <td>47</td>\n",
       "      <td>0.023161</td>\n",
       "    </tr>\n",
       "    <tr>\n",
       "      <th>316540</th>\n",
       "      <td>1146</td>\n",
       "      <td>1146</td>\n",
       "      <td>3953</td>\n",
       "      <td>0.634200</td>\n",
       "    </tr>\n",
       "    <tr>\n",
       "      <th>316541</th>\n",
       "      <td>1146</td>\n",
       "      <td>1147</td>\n",
       "      <td>217</td>\n",
       "      <td>0.044115</td>\n",
       "    </tr>\n",
       "    <tr>\n",
       "      <th>316542</th>\n",
       "      <td>1146</td>\n",
       "      <td>1148</td>\n",
       "      <td>80</td>\n",
       "      <td>0.032501</td>\n",
       "    </tr>\n",
       "    <tr>\n",
       "      <th>316543</th>\n",
       "      <td>1146</td>\n",
       "      <td>1149</td>\n",
       "      <td>119</td>\n",
       "      <td>0.023343</td>\n",
       "    </tr>\n",
       "    <tr>\n",
       "      <th>316544</th>\n",
       "      <td>1146</td>\n",
       "      <td>1150</td>\n",
       "      <td>57</td>\n",
       "      <td>0.027384</td>\n",
       "    </tr>\n",
       "    <tr>\n",
       "      <th>316545</th>\n",
       "      <td>1147</td>\n",
       "      <td>1147</td>\n",
       "      <td>3081</td>\n",
       "      <td>0.793679</td>\n",
       "    </tr>\n",
       "    <tr>\n",
       "      <th>316546</th>\n",
       "      <td>1147</td>\n",
       "      <td>1148</td>\n",
       "      <td>107</td>\n",
       "      <td>0.055083</td>\n",
       "    </tr>\n",
       "    <tr>\n",
       "      <th>316547</th>\n",
       "      <td>1147</td>\n",
       "      <td>1149</td>\n",
       "      <td>129</td>\n",
       "      <td>0.032065</td>\n",
       "    </tr>\n",
       "    <tr>\n",
       "      <th>316548</th>\n",
       "      <td>1147</td>\n",
       "      <td>1150</td>\n",
       "      <td>48</td>\n",
       "      <td>0.029221</td>\n",
       "    </tr>\n",
       "    <tr>\n",
       "      <th>316549</th>\n",
       "      <td>1148</td>\n",
       "      <td>1148</td>\n",
       "      <td>1716</td>\n",
       "      <td>1.765329</td>\n",
       "    </tr>\n",
       "    <tr>\n",
       "      <th>316550</th>\n",
       "      <td>1148</td>\n",
       "      <td>1149</td>\n",
       "      <td>111</td>\n",
       "      <td>0.055137</td>\n",
       "    </tr>\n",
       "    <tr>\n",
       "      <th>316551</th>\n",
       "      <td>1148</td>\n",
       "      <td>1150</td>\n",
       "      <td>30</td>\n",
       "      <td>0.036497</td>\n",
       "    </tr>\n",
       "    <tr>\n",
       "      <th>316552</th>\n",
       "      <td>1149</td>\n",
       "      <td>1149</td>\n",
       "      <td>3971</td>\n",
       "      <td>0.952439</td>\n",
       "    </tr>\n",
       "    <tr>\n",
       "      <th>316553</th>\n",
       "      <td>1149</td>\n",
       "      <td>1150</td>\n",
       "      <td>135</td>\n",
       "      <td>0.079302</td>\n",
       "    </tr>\n",
       "    <tr>\n",
       "      <th>316554</th>\n",
       "      <td>1150</td>\n",
       "      <td>1150</td>\n",
       "      <td>1020</td>\n",
       "      <td>1.467434</td>\n",
       "    </tr>\n",
       "    <tr>\n",
       "      <th>316555</th>\n",
       "      <td>1150</td>\n",
       "      <td>1151</td>\n",
       "      <td>1</td>\n",
       "      <td>NaN</td>\n",
       "    </tr>\n",
       "  </tbody>\n",
       "</table>\n",
       "<p>316556 rows × 4 columns</p>\n",
       "</div>"
      ],
      "text/plain": [
       "        bin1_id  bin2_id  count  balanced\n",
       "0             1        1   2859  0.892852\n",
       "1             1        2    382  0.117808\n",
       "2             1        3    315  0.076218\n",
       "3             1        4    251  0.051895\n",
       "4             1        5    109  0.026401\n",
       "5             1        6     61  0.018097\n",
       "6             1        7     53  0.019344\n",
       "7             1        8     39  0.013315\n",
       "8             1        9     16  0.005216\n",
       "9             1       10     34  0.009732\n",
       "10            1       11     35  0.008242\n",
       "11            1       12     26  0.010482\n",
       "12            1       13     20  0.005453\n",
       "13            1       14     45  0.010172\n",
       "14            1       15     13  0.007298\n",
       "15            1       16     39  0.007460\n",
       "16            1       17     11  0.003765\n",
       "17            1       19      1  0.000609\n",
       "18            1       20     23  0.005478\n",
       "19            1       21     32  0.004712\n",
       "20            1       22     38  0.006464\n",
       "21            1       23     49  0.004678\n",
       "22            1       24     29  0.003622\n",
       "23            1       25     68  0.004465\n",
       "24            1       26     54  0.004930\n",
       "25            1       27      9  0.008933\n",
       "26            1       28     35  0.006244\n",
       "27            1       29     12  0.007260\n",
       "28            1       30     32  0.006072\n",
       "29            1       31     13  0.003540\n",
       "...         ...      ...    ...       ...\n",
       "316526     1143     1150     14  0.019531\n",
       "316527     1144     1144   2739  0.706628\n",
       "316528     1144     1145    147  0.030676\n",
       "316529     1144     1146    137  0.027872\n",
       "316530     1144     1147     95  0.024491\n",
       "316531     1144     1148     41  0.021122\n",
       "316532     1144     1149    116  0.028855\n",
       "316533     1144     1150     36  0.021932\n",
       "316534     1145     1145   3315  0.559558\n",
       "316535     1145     1146    285  0.046900\n",
       "316536     1145     1147    148  0.030862\n",
       "316537     1145     1148     57  0.023753\n",
       "316538     1145     1149    131  0.026359\n",
       "316539     1145     1150     47  0.023161\n",
       "316540     1146     1146   3953  0.634200\n",
       "316541     1146     1147    217  0.044115\n",
       "316542     1146     1148     80  0.032501\n",
       "316543     1146     1149    119  0.023343\n",
       "316544     1146     1150     57  0.027384\n",
       "316545     1147     1147   3081  0.793679\n",
       "316546     1147     1148    107  0.055083\n",
       "316547     1147     1149    129  0.032065\n",
       "316548     1147     1150     48  0.029221\n",
       "316549     1148     1148   1716  1.765329\n",
       "316550     1148     1149    111  0.055137\n",
       "316551     1148     1150     30  0.036497\n",
       "316552     1149     1149   3971  0.952439\n",
       "316553     1149     1150    135  0.079302\n",
       "316554     1150     1150   1020  1.467434\n",
       "316555     1150     1151      1       NaN\n",
       "\n",
       "[316556 rows x 4 columns]"
      ]
     },
     "execution_count": 59,
     "metadata": {},
     "output_type": "execute_result"
    }
   ],
   "source": [
    "sparse"
   ]
  },
  {
   "cell_type": "code",
   "execution_count": 60,
   "metadata": {},
   "outputs": [],
   "source": [
    "sparse.loc[:, 'bin1_id':'count'].to_csv('test_sparse.txt', header=False, index=False, sep='\\t')"
   ]
  },
  {
   "cell_type": "code",
   "execution_count": 61,
   "metadata": {},
   "outputs": [],
   "source": [
    "max_bin = sparse.loc[:, 'bin1_id':'bin2_id'].max().max()"
   ]
  },
  {
   "cell_type": "code",
   "execution_count": 77,
   "metadata": {},
   "outputs": [],
   "source": [
    "with open(\"genome_bin.txt\", 'w') as outfile:\n",
    "    outfile.write(\"1\\tchr1\\t0\\t{}\".format(max_bin - 1))"
   ]
  },
  {
   "cell_type": "code",
   "execution_count": 79,
   "metadata": {},
   "outputs": [
    {
     "data": {
      "text/plain": [
       "1151"
      ]
     },
     "execution_count": 79,
     "metadata": {},
     "output_type": "execute_result"
    }
   ],
   "source": [
    "max_bin"
   ]
  },
  {
   "cell_type": "code",
   "execution_count": 80,
   "metadata": {},
   "outputs": [],
   "source": [
    "with open('chr_bin.txt', 'w') as outfile:\n",
    "    for i in range(max_bin):\n",
    "        outfile.write(\"0\\t{}\\t{}\\n\".format(i * 20000 + 1, (i + 1) * 20000))"
   ]
  },
  {
   "cell_type": "code",
   "execution_count": 78,
   "metadata": {},
   "outputs": [
    {
     "data": {
      "text/plain": [
       "CompletedProcess(args='echo sharlotka | sudo julia ../MrTADFinder/run_MrTADFinder.jl test_sparse.txt genome_bin.txt chr_bin.txt res=1 1 test_mrtadfinder.txt', returncode=1)"
      ]
     },
     "execution_count": 78,
     "metadata": {},
     "output_type": "execute_result"
    }
   ],
   "source": [
    "subprocess.run(\"echo sharlotka | sudo julia ../MrTADFinder/run_MrTADFinder.jl test_sparse.txt genome_bin.txt chr_bin.txt res=1 1 test_mrtadfinder.txt\", shell=True)"
   ]
  },
  {
   "cell_type": "code",
   "execution_count": 4,
   "metadata": {},
   "outputs": [
    {
     "data": {
      "text/plain": [
       "{'S2': {0.9: 0\t6\t1\n",
       "  6\t15\t1\n",
       "  21\t27\t1\n",
       "  27\t83\t1\n",
       "  84\t108\t1\n",
       "  108\t112\t1\n",
       "  112\t131\t1\n",
       "  132\t137\t1\n",
       "  137\t143\t1\n",
       "  143\t149\t1\n",
       "  152\t173\t1\n",
       "  173\t183\t1\n",
       "  183\t222\t1\n",
       "  223\t230\t1\n",
       "  231\t241\t1\n",
       "  241\t248\t1\n",
       "  248\t253\t1\n",
       "  253\t264\t1\n",
       "  266\t277\t1\n",
       "  277\t298\t1\n",
       "  299\t304\t1\n",
       "  304\t324\t1\n",
       "  324\t333\t1\n",
       "  333\t348\t1\n",
       "  348\t352\t1\n",
       "  352\t361\t1\n",
       "  361\t371\t1\n",
       "  371\t375\t1\n",
       "  375\t391\t1\n",
       "  391\t400\t1\n",
       "  405\t412\t1\n",
       "  412\t417\t1\n",
       "  417\t421\t1\n",
       "  421\t427\t1\n",
       "  427\t449\t1\n",
       "  449\t473\t1\n",
       "  473\t485\t1\n",
       "  485\t495\t1\n",
       "  496\t511\t1\n",
       "  511\t521\t1\n",
       "  521\t525\t1\n",
       "  525\t537\t1\n",
       "  537\t549\t1\n",
       "  549\t557\t1\n",
       "  557\t600\t1\n",
       "  603\t622\t1\n",
       "  622\t627\t1\n",
       "  627\t650\t1\n",
       "  650\t660\t1\n",
       "  664\t669\t1\n",
       "  669\t677\t1\n",
       "  677\t682\t1\n",
       "  682\t690\t1\n",
       "  691\t695\t1\n",
       "  695\t714\t1\n",
       "  714\t753\t1\n",
       "  753\t783\t1\n",
       "  786\t813\t1\n",
       "  815\t826\t1\n",
       "  826\t837\t1\n",
       "  837\t934\t1\n",
       "  934\t949\t1\n",
       "  949\t958\t1\n",
       "  958\t967\t1\n",
       "  971\t979\t1\n",
       "  979\t989\t1\n",
       "  990\t1004\t1\n",
       "  1004\t1009\t1\n",
       "  1011\t1022\t1\n",
       "  1023\t1039\t1\n",
       "  1039\t1046\t1\n",
       "  1046\t1051\t1\n",
       "  1052\t1057\t1\n",
       "  1057\t1062\t1\n",
       "  1062\t1071\t1\n",
       "  1077\t1126\t1\n",
       "  1126\t1151\t1}}"
      ]
     },
     "execution_count": 4,
     "metadata": {},
     "output_type": "execute_result"
    }
   ],
   "source": [
    "lc.call(0.9)"
   ]
  },
  {
   "cell_type": "code",
   "execution_count": 5,
   "metadata": {},
   "outputs": [
    {
     "data": {
      "text/plain": [
       "TADcalling.DataClasses.GenomicRanges"
      ]
     },
     "execution_count": 5,
     "metadata": {},
     "output_type": "execute_result"
    }
   ],
   "source": [
    "GenomicRanges"
   ]
  },
  {
   "cell_type": "code",
   "execution_count": 6,
   "metadata": {},
   "outputs": [],
   "source": [
    "lc.convert_files(\"txt.gz\")"
   ]
  },
  {
   "cell_type": "code",
   "execution_count": 18,
   "metadata": {},
   "outputs": [
    {
     "data": {
      "text/plain": [
       "{'assembly': 'dm3',\n",
       " 'balance': False,\n",
       " 'chr': 'chr2L',\n",
       " 'data_formats': ['cool', 'txt.gz', 'txt.gz'],\n",
       " 'files_cool': ['./data/S2.20000.cool'],\n",
       " 'files_txt.gz': ['./data/S2.20000.chr2L.txt.gz'],\n",
       " 'labels': ['S2'],\n",
       " 'resolution': 1000,\n",
       " 'size': 0}"
      ]
     },
     "execution_count": 18,
     "metadata": {},
     "output_type": "execute_result"
    }
   ],
   "source": [
    "lc._metadata"
   ]
  },
  {
   "cell_type": "code",
   "execution_count": 7,
   "metadata": {},
   "outputs": [],
   "source": [
    "acpp = ArmatusCaller(['S2'], ['./data/S2.20000.cool'], 'cool', assembly='dm3', resolution=20000, balance=True, chr='chr2L')"
   ]
  },
  {
   "cell_type": "code",
   "execution_count": 8,
   "metadata": {},
   "outputs": [
    {
     "data": {
      "text/plain": [
       "{'S2': {-0.3: array([[   6,   14],\n",
       "         [  26,  400],\n",
       "         [ 483,  489],\n",
       "         [ 536,  542],\n",
       "         [ 598,  645],\n",
       "         [ 658,  662],\n",
       "         [ 682,  716],\n",
       "         [ 816,  833],\n",
       "         [ 900,  907],\n",
       "         [ 937,  941],\n",
       "         [ 968, 1050],\n",
       "         [1116, 1127]])}}"
      ]
     },
     "execution_count": 8,
     "metadata": {},
     "output_type": "execute_result"
    }
   ],
   "source": [
    "acpp.call(-0.3)"
   ]
  },
  {
   "cell_type": "code",
   "execution_count": 10,
   "metadata": {},
   "outputs": [
    {
     "name": "stdout",
     "output_type": "stream",
     "text": [
      "abcdefghi\n"
     ]
    }
   ],
   "source": [
    "a = \"abc\" \\\n",
    "    \"def\" \\\n",
    "    \"ghi\"\n",
    "print(a)"
   ]
  }
 ],
 "metadata": {
  "kernelspec": {
   "display_name": "Python 3",
   "language": "python",
   "name": "python3"
  },
  "language_info": {
   "codemirror_mode": {
    "name": "ipython",
    "version": 3
   },
   "file_extension": ".py",
   "mimetype": "text/x-python",
   "name": "python",
   "nbconvert_exporter": "python",
   "pygments_lexer": "ipython3",
   "version": "3.5.2"
  }
 },
 "nbformat": 4,
 "nbformat_minor": 2
}
