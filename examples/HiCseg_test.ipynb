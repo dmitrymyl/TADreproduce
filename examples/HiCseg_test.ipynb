{
 "cells": [
  {
   "cell_type": "code",
   "execution_count": 1,
   "metadata": {},
   "outputs": [
    {
     "name": "stderr",
     "output_type": "stream",
     "text": [
      "/home/dmitry/.local/lib/python3.5/site-packages/h5py/__init__.py:36: FutureWarning: Conversion of the second argument of issubdtype from `float` to `np.floating` is deprecated. In future, it will be treated as `np.float64 == np.dtype(float).type`.\n",
      "  from ._conv import register_converters as _register_converters\n"
     ]
    },
    {
     "name": "stdout",
     "output_type": "stream",
     "text": [
      "DEBUG:matplotlib.backends:backend module://ipykernel.pylab.backend_inline version unknown\n"
     ]
    }
   ],
   "source": [
    "import numpy as np\n",
    "import pandas as pd\n",
    "import matplotlib.pyplot as plt\n",
    "import seaborn as sns\n",
    "import cooler\n",
    "import TADcalling"
   ]
  },
  {
   "cell_type": "code",
   "execution_count": 2,
   "metadata": {},
   "outputs": [
    {
     "name": "stdout",
     "output_type": "stream",
     "text": [
      "DEBUG:TADcalling:Initializing from files: ['../data/S2.20000.chr2L.txt', '../data/S2.20000.chr2L.txt']\n"
     ]
    }
   ],
   "source": [
    "HiCseg_test = TADcalling.ExperimentNoGamma(['S2_rep1', 'S2_rep2'], ['../data/S2.20000.chr2L.txt', '../data/S2.20000.chr2L.txt'], 'txt', 'hicseg_p', key='P', optimisation='convergence')"
   ]
  },
  {
   "cell_type": "code",
   "execution_count": 3,
   "metadata": {},
   "outputs": [
    {
     "name": "stdout",
     "output_type": "stream",
     "text": [
      "DEBUG:TADcalling:Calling HiCsegCaller with params: {}\n",
      "INFO:TADcalling:Rscript hicseg_script.R\n",
      "INFO:TADcalling:Check stdout: b''\n",
      "INFO:TADcalling:Command completed: 10.053976\n",
      "INFO:TADcalling:Rscript hicseg_script.R\n",
      "INFO:TADcalling:Check stdout: b''\n",
      "INFO:TADcalling:Command completed: 11.606674\n"
     ]
    }
   ],
   "source": [
    "HiCseg_test.call()"
   ]
  },
  {
   "cell_type": "code",
   "execution_count": 4,
   "metadata": {},
   "outputs": [
    {
     "data": {
      "text/plain": [
       "{'background': array([[7.01587302],\n",
       "        [7.01587302]]),\n",
       " 'optimisation': [array(1.), array(1.), array(1.), array(1.)]}"
      ]
     },
     "execution_count": 4,
     "metadata": {},
     "output_type": "execute_result"
    }
   ],
   "source": [
    "HiCseg_test.results"
   ]
  }
 ],
 "metadata": {
  "kernelspec": {
   "display_name": "Python 3",
   "language": "python",
   "name": "python3"
  },
  "language_info": {
   "codemirror_mode": {
    "name": "ipython",
    "version": 3
   },
   "file_extension": ".py",
   "mimetype": "text/x-python",
   "name": "python",
   "nbconvert_exporter": "python",
   "pygments_lexer": "ipython3",
   "version": "3.5.2"
  }
 },
 "nbformat": 4,
 "nbformat_minor": 2
}
