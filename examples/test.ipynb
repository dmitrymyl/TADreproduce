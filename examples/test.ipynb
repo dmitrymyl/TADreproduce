{
 "cells": [
  {
   "cell_type": "code",
   "execution_count": 1,
   "metadata": {},
   "outputs": [],
   "source": [
    "import numpy as np\n",
    "import pandas as pd\n",
    "import matplotlib.pyplot as plt\n",
    "import cooler\n",
    "import lavaburst"
   ]
  },
  {
   "cell_type": "markdown",
   "metadata": {},
   "source": [
    "### Example usage of some callers"
   ]
  },
  {
   "cell_type": "code",
   "execution_count": 2,
   "metadata": {},
   "outputs": [],
   "source": [
    "import TADcalling\n",
    "TADcalling.logger.setLevel('INFO')"
   ]
  },
  {
   "cell_type": "code",
   "execution_count": 4,
   "metadata": {},
   "outputs": [],
   "source": [
    "IS = TADcalling.CallerClasses.InsulationCaller(['S2'], ['../data/S2.20000.cool'], 'cool', assembly='dm3', resolution=20000, balance=True, chr='chr2L')"
   ]
  },
  {
   "cell_type": "code",
   "execution_count": 5,
   "metadata": {
    "scrolled": true
   },
   "outputs": [],
   "source": [
    "IS.call({'window':np.arange(2e4,2e5,2e4), 'cutoff':[0.1, 0.2, 0.5, 0.7]})"
   ]
  },
  {
   "cell_type": "code",
   "execution_count": 6,
   "metadata": {},
   "outputs": [],
   "source": [
    "DI = TADcalling.CallerClasses.DirectionalityCaller(['S2'], ['../data/S2.20000.cool'], 'cool', assembly='dm3', resolution=20000, balance=True, chr='chr2L')"
   ]
  },
  {
   "cell_type": "code",
   "execution_count": 7,
   "metadata": {},
   "outputs": [],
   "source": [
    "DI.call({'window':np.arange(2e4,2e5,2e4), 'cutoff':[0.1, 0.2, 0.5, 0.7]})"
   ]
  },
  {
   "cell_type": "code",
   "execution_count": 8,
   "metadata": {},
   "outputs": [],
   "source": [
    "lc = TADcalling.CallerClasses.LavaburstCaller(['S2'], ['../data/S2.20000.cool'], 'cool', assembly='dm3', resolution=20000, balance=True, chr='chr2L')"
   ]
  },
  {
   "cell_type": "code",
   "execution_count": 9,
   "metadata": {
    "scrolled": true
   },
   "outputs": [],
   "source": [
    "lc.call({'gamma':np.arange(-5,6,0.1), 'method':['armatus', 'modularity']})"
   ]
  },
  {
   "cell_type": "code",
   "execution_count": 10,
   "metadata": {},
   "outputs": [],
   "source": [
    "acpp = TADcalling.CallerClasses.ArmatusCaller(['S2'], ['../data/S2.20000.cool'], 'cool', assembly='dm3', resolution=20000, balance=True, chr='chr2L')"
   ]
  },
  {
   "cell_type": "code",
   "execution_count": 16,
   "metadata": {},
   "outputs": [],
   "source": [
    "acpp.call({'gamma':[0.1, 0.3, 0.5]}, caller_path='')"
   ]
  },
  {
   "cell_type": "code",
   "execution_count": 10,
   "metadata": {},
   "outputs": [],
   "source": [
    "df_lc = lc.segmentation2df()\n",
    "df_is = IS.segmentation2df()\n",
    "df_di = DI.segmentation2df()\n",
    "\n",
    "df = pd.concat([x.segmentation2df() for x in [lc, IS, DI]])"
   ]
  },
  {
   "cell_type": "code",
   "execution_count": 11,
   "metadata": {
    "scrolled": true
   },
   "outputs": [
    {
     "data": {
      "text/html": [
       "<div>\n",
       "<style scoped>\n",
       "    .dataframe tbody tr th:only-of-type {\n",
       "        vertical-align: middle;\n",
       "    }\n",
       "\n",
       "    .dataframe tbody tr th {\n",
       "        vertical-align: top;\n",
       "    }\n",
       "\n",
       "    .dataframe thead th {\n",
       "        text-align: right;\n",
       "    }\n",
       "</style>\n",
       "<table border=\"1\" class=\"dataframe\">\n",
       "  <thead>\n",
       "    <tr style=\"text-align: right;\">\n",
       "      <th></th>\n",
       "      <th>bgn</th>\n",
       "      <th>caller</th>\n",
       "      <th>cutoff</th>\n",
       "      <th>end</th>\n",
       "      <th>gamma</th>\n",
       "      <th>label</th>\n",
       "      <th>method</th>\n",
       "      <th>window</th>\n",
       "    </tr>\n",
       "  </thead>\n",
       "  <tbody>\n",
       "    <tr>\n",
       "      <th>0</th>\n",
       "      <td>0</td>\n",
       "      <td>Lavaburst</td>\n",
       "      <td>NaN</td>\n",
       "      <td>677</td>\n",
       "      <td>-5.0</td>\n",
       "      <td>S2</td>\n",
       "      <td>armatus</td>\n",
       "      <td>NaN</td>\n",
       "    </tr>\n",
       "    <tr>\n",
       "      <th>1</th>\n",
       "      <td>677</td>\n",
       "      <td>Lavaburst</td>\n",
       "      <td>NaN</td>\n",
       "      <td>682</td>\n",
       "      <td>-5.0</td>\n",
       "      <td>S2</td>\n",
       "      <td>armatus</td>\n",
       "      <td>NaN</td>\n",
       "    </tr>\n",
       "    <tr>\n",
       "      <th>2</th>\n",
       "      <td>682</td>\n",
       "      <td>Lavaburst</td>\n",
       "      <td>NaN</td>\n",
       "      <td>1151</td>\n",
       "      <td>-5.0</td>\n",
       "      <td>S2</td>\n",
       "      <td>armatus</td>\n",
       "      <td>NaN</td>\n",
       "    </tr>\n",
       "    <tr>\n",
       "      <th>0</th>\n",
       "      <td>0</td>\n",
       "      <td>Lavaburst</td>\n",
       "      <td>NaN</td>\n",
       "      <td>1151</td>\n",
       "      <td>-5.0</td>\n",
       "      <td>S2</td>\n",
       "      <td>modularity</td>\n",
       "      <td>NaN</td>\n",
       "    </tr>\n",
       "    <tr>\n",
       "      <th>0</th>\n",
       "      <td>0</td>\n",
       "      <td>Lavaburst</td>\n",
       "      <td>NaN</td>\n",
       "      <td>676</td>\n",
       "      <td>-4.9</td>\n",
       "      <td>S2</td>\n",
       "      <td>armatus</td>\n",
       "      <td>NaN</td>\n",
       "    </tr>\n",
       "  </tbody>\n",
       "</table>\n",
       "</div>"
      ],
      "text/plain": [
       "   bgn     caller  cutoff   end  gamma label      method  window\n",
       "0    0  Lavaburst     NaN   677   -5.0    S2     armatus     NaN\n",
       "1  677  Lavaburst     NaN   682   -5.0    S2     armatus     NaN\n",
       "2  682  Lavaburst     NaN  1151   -5.0    S2     armatus     NaN\n",
       "0    0  Lavaburst     NaN  1151   -5.0    S2  modularity     NaN\n",
       "0    0  Lavaburst     NaN   676   -4.9    S2     armatus     NaN"
      ]
     },
     "execution_count": 11,
     "metadata": {},
     "output_type": "execute_result"
    }
   ],
   "source": [
    "df[0:5]"
   ]
  },
  {
   "cell_type": "code",
   "execution_count": 12,
   "metadata": {},
   "outputs": [],
   "source": [
    "df.loc[:,'length'] = df.end-df.bgn"
   ]
  },
  {
   "cell_type": "code",
   "execution_count": 13,
   "metadata": {},
   "outputs": [
    {
     "data": {
      "text/plain": [
       "<matplotlib.legend.Legend at 0x7f99acd66cc0>"
      ]
     },
     "execution_count": 13,
     "metadata": {},
     "output_type": "execute_result"
    },
    {
     "name": "stdout",
     "output_type": "stream",
     "text": [
      "DEBUG:matplotlib.font_manager:findfont: Matching :family=sans-serif:style=normal:variant=normal:weight=normal:stretch=normal:size=10.0 to DejaVu Sans ('/home/anaconda3/envs/distiller-editable/lib/python3.6/site-packages/matplotlib/mpl-data/fonts/ttf/DejaVuSans.ttf') with score of 0.050000\n"
     ]
    },
    {
     "data": {
      "image/png": "[encoded data removed]",
      "text/plain": [
       "<Figure size 504x504 with 1 Axes>"
      ]
     },
     "metadata": {},
     "output_type": "display_data"
    }
   ],
   "source": [
    "gr = df.query('caller==\"Lavaburst\"').groupby(['gamma', 'method']).mean().reset_index().sort_values(['method', 'gamma'])\n",
    "plt.figure(figsize=[7,7])\n",
    "for method in ['armatus', 'modularity']:\n",
    "    tmp = gr.query('method==\"{}\"'.format(method))\n",
    "    plt.plot( tmp.gamma, tmp.length, label=method )\n",
    "    \n",
    "plt.legend()"
   ]
  },
  {
   "cell_type": "code",
   "execution_count": null,
   "metadata": {},
   "outputs": [],
   "source": []
  },
  {
   "cell_type": "code",
   "execution_count": 14,
   "metadata": {},
   "outputs": [],
   "source": [
    "hc = TADcalling.CallerClasses.HiCsegCaller(['S2'], ['../data/S2.20000.cool'], 'cool', assembly='dm3', resolution=20000, balance=True, chr='chr2L')"
   ]
  },
  {
   "cell_type": "code",
   "execution_count": 16,
   "metadata": {},
   "outputs": [],
   "source": [
    "hc.call(params_dict={'distr_model':[\"P\"]}, tune=False)"
   ]
  },
  {
   "cell_type": "code",
   "execution_count": null,
   "metadata": {},
   "outputs": [],
   "source": []
  },
  {
   "cell_type": "code",
   "execution_count": 6,
   "metadata": {},
   "outputs": [],
   "source": [
    "lc.convert_files(\"txt.gz\")"
   ]
  },
  {
   "cell_type": "code",
   "execution_count": 18,
   "metadata": {
    "scrolled": true
   },
   "outputs": [
    {
     "data": {
      "text/plain": [
       "{'assembly': 'dm3',\n",
       " 'balance': False,\n",
       " 'chr': 'chr2L',\n",
       " 'data_formats': ['cool', 'txt.gz', 'txt.gz'],\n",
       " 'files_cool': ['./data/S2.20000.cool'],\n",
       " 'files_txt.gz': ['./data/S2.20000.chr2L.txt.gz'],\n",
       " 'labels': ['S2'],\n",
       " 'resolution': 1000,\n",
       " 'size': 0}"
      ]
     },
     "execution_count": 18,
     "metadata": {},
     "output_type": "execute_result"
    }
   ],
   "source": [
    "lc._metadata"
   ]
  },
  {
   "cell_type": "markdown",
   "metadata": {},
   "source": [
    "### DEVELOPMENT OF MrTADFinder"
   ]
  },
  {
   "cell_type": "code",
   "execution_count": 18,
   "metadata": {},
   "outputs": [],
   "source": [
    "mrc = TADcalling.CallerClasses.MrTADFinderCaller(['S2'], ['../data/S2.20000.cool'], 'cool', assembly='dm3', resolution=20000, balance=True, chr='chr2L')"
   ]
  },
  {
   "cell_type": "code",
   "execution_count": 22,
   "metadata": {},
   "outputs": [],
   "source": [
    "mrc.call(1)"
   ]
  },
  {
   "cell_type": "code",
   "execution_count": 3,
   "metadata": {},
   "outputs": [],
   "source": [
    "c = cooler.Cooler('./data/S2.20000.cool')"
   ]
  },
  {
   "cell_type": "code",
   "execution_count": 4,
   "metadata": {},
   "outputs": [],
   "source": [
    "sparse = c.matrix(balance=True, as_pixels=True).fetch('chr2L')"
   ]
  },
  {
   "cell_type": "code",
   "execution_count": 5,
   "metadata": {},
   "outputs": [],
   "source": [
    "sparse.loc[:, \"bin1_id\":\"bin2_id\"] += 1"
   ]
  },
  {
   "cell_type": "code",
   "execution_count": 6,
   "metadata": {},
   "outputs": [
    {
     "data": {
      "text/html": [
       "<div>\n",
       "<style scoped>\n",
       "    .dataframe tbody tr th:only-of-type {\n",
       "        vertical-align: middle;\n",
       "    }\n",
       "\n",
       "    .dataframe tbody tr th {\n",
       "        vertical-align: top;\n",
       "    }\n",
       "\n",
       "    .dataframe thead th {\n",
       "        text-align: right;\n",
       "    }\n",
       "</style>\n",
       "<table border=\"1\" class=\"dataframe\">\n",
       "  <thead>\n",
       "    <tr style=\"text-align: right;\">\n",
       "      <th></th>\n",
       "      <th>bin1_id</th>\n",
       "      <th>bin2_id</th>\n",
       "      <th>count</th>\n",
       "      <th>balanced</th>\n",
       "    </tr>\n",
       "  </thead>\n",
       "  <tbody>\n",
       "    <tr>\n",
       "      <th>0</th>\n",
       "      <td>1</td>\n",
       "      <td>1</td>\n",
       "      <td>2859</td>\n",
       "      <td>0.892852</td>\n",
       "    </tr>\n",
       "    <tr>\n",
       "      <th>1</th>\n",
       "      <td>1</td>\n",
       "      <td>2</td>\n",
       "      <td>382</td>\n",
       "      <td>0.117808</td>\n",
       "    </tr>\n",
       "    <tr>\n",
       "      <th>2</th>\n",
       "      <td>1</td>\n",
       "      <td>3</td>\n",
       "      <td>315</td>\n",
       "      <td>0.076218</td>\n",
       "    </tr>\n",
       "    <tr>\n",
       "      <th>3</th>\n",
       "      <td>1</td>\n",
       "      <td>4</td>\n",
       "      <td>251</td>\n",
       "      <td>0.051895</td>\n",
       "    </tr>\n",
       "    <tr>\n",
       "      <th>4</th>\n",
       "      <td>1</td>\n",
       "      <td>5</td>\n",
       "      <td>109</td>\n",
       "      <td>0.026401</td>\n",
       "    </tr>\n",
       "    <tr>\n",
       "      <th>5</th>\n",
       "      <td>1</td>\n",
       "      <td>6</td>\n",
       "      <td>61</td>\n",
       "      <td>0.018097</td>\n",
       "    </tr>\n",
       "    <tr>\n",
       "      <th>6</th>\n",
       "      <td>1</td>\n",
       "      <td>7</td>\n",
       "      <td>53</td>\n",
       "      <td>0.019344</td>\n",
       "    </tr>\n",
       "    <tr>\n",
       "      <th>7</th>\n",
       "      <td>1</td>\n",
       "      <td>8</td>\n",
       "      <td>39</td>\n",
       "      <td>0.013315</td>\n",
       "    </tr>\n",
       "    <tr>\n",
       "      <th>8</th>\n",
       "      <td>1</td>\n",
       "      <td>9</td>\n",
       "      <td>16</td>\n",
       "      <td>0.005216</td>\n",
       "    </tr>\n",
       "    <tr>\n",
       "      <th>9</th>\n",
       "      <td>1</td>\n",
       "      <td>10</td>\n",
       "      <td>34</td>\n",
       "      <td>0.009732</td>\n",
       "    </tr>\n",
       "    <tr>\n",
       "      <th>10</th>\n",
       "      <td>1</td>\n",
       "      <td>11</td>\n",
       "      <td>35</td>\n",
       "      <td>0.008242</td>\n",
       "    </tr>\n",
       "    <tr>\n",
       "      <th>11</th>\n",
       "      <td>1</td>\n",
       "      <td>12</td>\n",
       "      <td>26</td>\n",
       "      <td>0.010482</td>\n",
       "    </tr>\n",
       "    <tr>\n",
       "      <th>12</th>\n",
       "      <td>1</td>\n",
       "      <td>13</td>\n",
       "      <td>20</td>\n",
       "      <td>0.005453</td>\n",
       "    </tr>\n",
       "    <tr>\n",
       "      <th>13</th>\n",
       "      <td>1</td>\n",
       "      <td>14</td>\n",
       "      <td>45</td>\n",
       "      <td>0.010172</td>\n",
       "    </tr>\n",
       "    <tr>\n",
       "      <th>14</th>\n",
       "      <td>1</td>\n",
       "      <td>15</td>\n",
       "      <td>13</td>\n",
       "      <td>0.007298</td>\n",
       "    </tr>\n",
       "    <tr>\n",
       "      <th>15</th>\n",
       "      <td>1</td>\n",
       "      <td>16</td>\n",
       "      <td>39</td>\n",
       "      <td>0.007460</td>\n",
       "    </tr>\n",
       "    <tr>\n",
       "      <th>16</th>\n",
       "      <td>1</td>\n",
       "      <td>17</td>\n",
       "      <td>11</td>\n",
       "      <td>0.003765</td>\n",
       "    </tr>\n",
       "    <tr>\n",
       "      <th>17</th>\n",
       "      <td>1</td>\n",
       "      <td>19</td>\n",
       "      <td>1</td>\n",
       "      <td>0.000609</td>\n",
       "    </tr>\n",
       "    <tr>\n",
       "      <th>18</th>\n",
       "      <td>1</td>\n",
       "      <td>20</td>\n",
       "      <td>23</td>\n",
       "      <td>0.005478</td>\n",
       "    </tr>\n",
       "    <tr>\n",
       "      <th>19</th>\n",
       "      <td>1</td>\n",
       "      <td>21</td>\n",
       "      <td>32</td>\n",
       "      <td>0.004712</td>\n",
       "    </tr>\n",
       "    <tr>\n",
       "      <th>20</th>\n",
       "      <td>1</td>\n",
       "      <td>22</td>\n",
       "      <td>38</td>\n",
       "      <td>0.006464</td>\n",
       "    </tr>\n",
       "    <tr>\n",
       "      <th>21</th>\n",
       "      <td>1</td>\n",
       "      <td>23</td>\n",
       "      <td>49</td>\n",
       "      <td>0.004678</td>\n",
       "    </tr>\n",
       "    <tr>\n",
       "      <th>22</th>\n",
       "      <td>1</td>\n",
       "      <td>24</td>\n",
       "      <td>29</td>\n",
       "      <td>0.003622</td>\n",
       "    </tr>\n",
       "    <tr>\n",
       "      <th>23</th>\n",
       "      <td>1</td>\n",
       "      <td>25</td>\n",
       "      <td>68</td>\n",
       "      <td>0.004465</td>\n",
       "    </tr>\n",
       "    <tr>\n",
       "      <th>24</th>\n",
       "      <td>1</td>\n",
       "      <td>26</td>\n",
       "      <td>54</td>\n",
       "      <td>0.004930</td>\n",
       "    </tr>\n",
       "    <tr>\n",
       "      <th>25</th>\n",
       "      <td>1</td>\n",
       "      <td>27</td>\n",
       "      <td>9</td>\n",
       "      <td>0.008933</td>\n",
       "    </tr>\n",
       "    <tr>\n",
       "      <th>26</th>\n",
       "      <td>1</td>\n",
       "      <td>28</td>\n",
       "      <td>35</td>\n",
       "      <td>0.006244</td>\n",
       "    </tr>\n",
       "    <tr>\n",
       "      <th>27</th>\n",
       "      <td>1</td>\n",
       "      <td>29</td>\n",
       "      <td>12</td>\n",
       "      <td>0.007260</td>\n",
       "    </tr>\n",
       "    <tr>\n",
       "      <th>28</th>\n",
       "      <td>1</td>\n",
       "      <td>30</td>\n",
       "      <td>32</td>\n",
       "      <td>0.006072</td>\n",
       "    </tr>\n",
       "    <tr>\n",
       "      <th>29</th>\n",
       "      <td>1</td>\n",
       "      <td>31</td>\n",
       "      <td>13</td>\n",
       "      <td>0.003540</td>\n",
       "    </tr>\n",
       "    <tr>\n",
       "      <th>...</th>\n",
       "      <td>...</td>\n",
       "      <td>...</td>\n",
       "      <td>...</td>\n",
       "      <td>...</td>\n",
       "    </tr>\n",
       "    <tr>\n",
       "      <th>316526</th>\n",
       "      <td>1143</td>\n",
       "      <td>1150</td>\n",
       "      <td>14</td>\n",
       "      <td>0.019531</td>\n",
       "    </tr>\n",
       "    <tr>\n",
       "      <th>316527</th>\n",
       "      <td>1144</td>\n",
       "      <td>1144</td>\n",
       "      <td>2739</td>\n",
       "      <td>0.706628</td>\n",
       "    </tr>\n",
       "    <tr>\n",
       "      <th>316528</th>\n",
       "      <td>1144</td>\n",
       "      <td>1145</td>\n",
       "      <td>147</td>\n",
       "      <td>0.030676</td>\n",
       "    </tr>\n",
       "    <tr>\n",
       "      <th>316529</th>\n",
       "      <td>1144</td>\n",
       "      <td>1146</td>\n",
       "      <td>137</td>\n",
       "      <td>0.027872</td>\n",
       "    </tr>\n",
       "    <tr>\n",
       "      <th>316530</th>\n",
       "      <td>1144</td>\n",
       "      <td>1147</td>\n",
       "      <td>95</td>\n",
       "      <td>0.024491</td>\n",
       "    </tr>\n",
       "    <tr>\n",
       "      <th>316531</th>\n",
       "      <td>1144</td>\n",
       "      <td>1148</td>\n",
       "      <td>41</td>\n",
       "      <td>0.021122</td>\n",
       "    </tr>\n",
       "    <tr>\n",
       "      <th>316532</th>\n",
       "      <td>1144</td>\n",
       "      <td>1149</td>\n",
       "      <td>116</td>\n",
       "      <td>0.028855</td>\n",
       "    </tr>\n",
       "    <tr>\n",
       "      <th>316533</th>\n",
       "      <td>1144</td>\n",
       "      <td>1150</td>\n",
       "      <td>36</td>\n",
       "      <td>0.021932</td>\n",
       "    </tr>\n",
       "    <tr>\n",
       "      <th>316534</th>\n",
       "      <td>1145</td>\n",
       "      <td>1145</td>\n",
       "      <td>3315</td>\n",
       "      <td>0.559558</td>\n",
       "    </tr>\n",
       "    <tr>\n",
       "      <th>316535</th>\n",
       "      <td>1145</td>\n",
       "      <td>1146</td>\n",
       "      <td>285</td>\n",
       "      <td>0.046900</td>\n",
       "    </tr>\n",
       "    <tr>\n",
       "      <th>316536</th>\n",
       "      <td>1145</td>\n",
       "      <td>1147</td>\n",
       "      <td>148</td>\n",
       "      <td>0.030862</td>\n",
       "    </tr>\n",
       "    <tr>\n",
       "      <th>316537</th>\n",
       "      <td>1145</td>\n",
       "      <td>1148</td>\n",
       "      <td>57</td>\n",
       "      <td>0.023753</td>\n",
       "    </tr>\n",
       "    <tr>\n",
       "      <th>316538</th>\n",
       "      <td>1145</td>\n",
       "      <td>1149</td>\n",
       "      <td>131</td>\n",
       "      <td>0.026359</td>\n",
       "    </tr>\n",
       "    <tr>\n",
       "      <th>316539</th>\n",
       "      <td>1145</td>\n",
       "      <td>1150</td>\n",
       "      <td>47</td>\n",
       "      <td>0.023161</td>\n",
       "    </tr>\n",
       "    <tr>\n",
       "      <th>316540</th>\n",
       "      <td>1146</td>\n",
       "      <td>1146</td>\n",
       "      <td>3953</td>\n",
       "      <td>0.634200</td>\n",
       "    </tr>\n",
       "    <tr>\n",
       "      <th>316541</th>\n",
       "      <td>1146</td>\n",
       "      <td>1147</td>\n",
       "      <td>217</td>\n",
       "      <td>0.044115</td>\n",
       "    </tr>\n",
       "    <tr>\n",
       "      <th>316542</th>\n",
       "      <td>1146</td>\n",
       "      <td>1148</td>\n",
       "      <td>80</td>\n",
       "      <td>0.032501</td>\n",
       "    </tr>\n",
       "    <tr>\n",
       "      <th>316543</th>\n",
       "      <td>1146</td>\n",
       "      <td>1149</td>\n",
       "      <td>119</td>\n",
       "      <td>0.023343</td>\n",
       "    </tr>\n",
       "    <tr>\n",
       "      <th>316544</th>\n",
       "      <td>1146</td>\n",
       "      <td>1150</td>\n",
       "      <td>57</td>\n",
       "      <td>0.027384</td>\n",
       "    </tr>\n",
       "    <tr>\n",
       "      <th>316545</th>\n",
       "      <td>1147</td>\n",
       "      <td>1147</td>\n",
       "      <td>3081</td>\n",
       "      <td>0.793679</td>\n",
       "    </tr>\n",
       "    <tr>\n",
       "      <th>316546</th>\n",
       "      <td>1147</td>\n",
       "      <td>1148</td>\n",
       "      <td>107</td>\n",
       "      <td>0.055083</td>\n",
       "    </tr>\n",
       "    <tr>\n",
       "      <th>316547</th>\n",
       "      <td>1147</td>\n",
       "      <td>1149</td>\n",
       "      <td>129</td>\n",
       "      <td>0.032065</td>\n",
       "    </tr>\n",
       "    <tr>\n",
       "      <th>316548</th>\n",
       "      <td>1147</td>\n",
       "      <td>1150</td>\n",
       "      <td>48</td>\n",
       "      <td>0.029221</td>\n",
       "    </tr>\n",
       "    <tr>\n",
       "      <th>316549</th>\n",
       "      <td>1148</td>\n",
       "      <td>1148</td>\n",
       "      <td>1716</td>\n",
       "      <td>1.765329</td>\n",
       "    </tr>\n",
       "    <tr>\n",
       "      <th>316550</th>\n",
       "      <td>1148</td>\n",
       "      <td>1149</td>\n",
       "      <td>111</td>\n",
       "      <td>0.055137</td>\n",
       "    </tr>\n",
       "    <tr>\n",
       "      <th>316551</th>\n",
       "      <td>1148</td>\n",
       "      <td>1150</td>\n",
       "      <td>30</td>\n",
       "      <td>0.036497</td>\n",
       "    </tr>\n",
       "    <tr>\n",
       "      <th>316552</th>\n",
       "      <td>1149</td>\n",
       "      <td>1149</td>\n",
       "      <td>3971</td>\n",
       "      <td>0.952439</td>\n",
       "    </tr>\n",
       "    <tr>\n",
       "      <th>316553</th>\n",
       "      <td>1149</td>\n",
       "      <td>1150</td>\n",
       "      <td>135</td>\n",
       "      <td>0.079302</td>\n",
       "    </tr>\n",
       "    <tr>\n",
       "      <th>316554</th>\n",
       "      <td>1150</td>\n",
       "      <td>1150</td>\n",
       "      <td>1020</td>\n",
       "      <td>1.467434</td>\n",
       "    </tr>\n",
       "    <tr>\n",
       "      <th>316555</th>\n",
       "      <td>1150</td>\n",
       "      <td>1151</td>\n",
       "      <td>1</td>\n",
       "      <td>NaN</td>\n",
       "    </tr>\n",
       "  </tbody>\n",
       "</table>\n",
       "<p>316556 rows × 4 columns</p>\n",
       "</div>"
      ],
      "text/plain": [
       "        bin1_id  bin2_id  count  balanced\n",
       "0             1        1   2859  0.892852\n",
       "1             1        2    382  0.117808\n",
       "2             1        3    315  0.076218\n",
       "3             1        4    251  0.051895\n",
       "4             1        5    109  0.026401\n",
       "5             1        6     61  0.018097\n",
       "6             1        7     53  0.019344\n",
       "7             1        8     39  0.013315\n",
       "8             1        9     16  0.005216\n",
       "9             1       10     34  0.009732\n",
       "10            1       11     35  0.008242\n",
       "11            1       12     26  0.010482\n",
       "12            1       13     20  0.005453\n",
       "13            1       14     45  0.010172\n",
       "14            1       15     13  0.007298\n",
       "15            1       16     39  0.007460\n",
       "16            1       17     11  0.003765\n",
       "17            1       19      1  0.000609\n",
       "18            1       20     23  0.005478\n",
       "19            1       21     32  0.004712\n",
       "20            1       22     38  0.006464\n",
       "21            1       23     49  0.004678\n",
       "22            1       24     29  0.003622\n",
       "23            1       25     68  0.004465\n",
       "24            1       26     54  0.004930\n",
       "25            1       27      9  0.008933\n",
       "26            1       28     35  0.006244\n",
       "27            1       29     12  0.007260\n",
       "28            1       30     32  0.006072\n",
       "29            1       31     13  0.003540\n",
       "...         ...      ...    ...       ...\n",
       "316526     1143     1150     14  0.019531\n",
       "316527     1144     1144   2739  0.706628\n",
       "316528     1144     1145    147  0.030676\n",
       "316529     1144     1146    137  0.027872\n",
       "316530     1144     1147     95  0.024491\n",
       "316531     1144     1148     41  0.021122\n",
       "316532     1144     1149    116  0.028855\n",
       "316533     1144     1150     36  0.021932\n",
       "316534     1145     1145   3315  0.559558\n",
       "316535     1145     1146    285  0.046900\n",
       "316536     1145     1147    148  0.030862\n",
       "316537     1145     1148     57  0.023753\n",
       "316538     1145     1149    131  0.026359\n",
       "316539     1145     1150     47  0.023161\n",
       "316540     1146     1146   3953  0.634200\n",
       "316541     1146     1147    217  0.044115\n",
       "316542     1146     1148     80  0.032501\n",
       "316543     1146     1149    119  0.023343\n",
       "316544     1146     1150     57  0.027384\n",
       "316545     1147     1147   3081  0.793679\n",
       "316546     1147     1148    107  0.055083\n",
       "316547     1147     1149    129  0.032065\n",
       "316548     1147     1150     48  0.029221\n",
       "316549     1148     1148   1716  1.765329\n",
       "316550     1148     1149    111  0.055137\n",
       "316551     1148     1150     30  0.036497\n",
       "316552     1149     1149   3971  0.952439\n",
       "316553     1149     1150    135  0.079302\n",
       "316554     1150     1150   1020  1.467434\n",
       "316555     1150     1151      1       NaN\n",
       "\n",
       "[316556 rows x 4 columns]"
      ]
     },
     "execution_count": 6,
     "metadata": {},
     "output_type": "execute_result"
    }
   ],
   "source": [
    "sparse"
   ]
  },
  {
   "cell_type": "code",
   "execution_count": 7,
   "metadata": {},
   "outputs": [],
   "source": [
    "sparse.loc[:, 'bin1_id':'count'].to_csv('test_sparse.txt', header=False, index=False, sep='\\t')"
   ]
  },
  {
   "cell_type": "code",
   "execution_count": 61,
   "metadata": {},
   "outputs": [],
   "source": [
    "max_bin = sparse.loc[:, 'bin1_id':'bin2_id'].max().max()"
   ]
  },
  {
   "cell_type": "code",
   "execution_count": 77,
   "metadata": {},
   "outputs": [],
   "source": [
    "with open(\"genome_bin.txt\", 'w') as outfile:\n",
    "    outfile.write(\"1\\tchr1\\t0\\t{}\".format(max_bin - 1))"
   ]
  },
  {
   "cell_type": "code",
   "execution_count": 79,
   "metadata": {},
   "outputs": [
    {
     "data": {
      "text/plain": [
       "1151"
      ]
     },
     "execution_count": 79,
     "metadata": {},
     "output_type": "execute_result"
    }
   ],
   "source": [
    "max_bin"
   ]
  },
  {
   "cell_type": "code",
   "execution_count": 80,
   "metadata": {},
   "outputs": [],
   "source": [
    "with open('chr_bin.txt', 'w') as outfile:\n",
    "    for i in range(max_bin):\n",
    "        outfile.write(\"0\\t{}\\t{}\\n\".format(i * 20000 + 1, (i + 1) * 20000))"
   ]
  },
  {
   "cell_type": "code",
   "execution_count": 12,
   "metadata": {},
   "outputs": [
    {
     "data": {
      "text/plain": [
       "CompletedProcess(args='julia ../MrTADFinder/run_MrTADFinder.jl test_sparse.txt genome_bin.txt chr_bin.txt res=20000 1 test_mrtadfinder.txt', returncode=1)"
      ]
     },
     "execution_count": 12,
     "metadata": {},
     "output_type": "execute_result"
    }
   ],
   "source": [
    "subprocess.run(\"julia ../MrTADFinder/run_MrTADFinder.jl test_sparse.txt genome_bin.txt chr_bin.txt res=20000 1 test_mrtadfinder.txt\", shell=True)"
   ]
  },
  {
   "cell_type": "code",
   "execution_count": 13,
   "metadata": {},
   "outputs": [],
   "source": [
    "mr_df = pd.read_csv('test_mrtadfinder.csv')"
   ]
  },
  {
   "cell_type": "code",
   "execution_count": 17,
   "metadata": {},
   "outputs": [
    {
     "data": {
      "text/plain": [
       "array([[42015, 42018],\n",
       "       [42019, 42035],\n",
       "       [42036, 42041],\n",
       "       [42042, 42042],\n",
       "       [42043, 42043],\n",
       "       [42044, 42044],\n",
       "       [42045, 42045],\n",
       "       [42046, 42046],\n",
       "       [42047, 42047]])"
      ]
     },
     "execution_count": 17,
     "metadata": {},
     "output_type": "execute_result"
    }
   ],
   "source": [
    "mr_df.loc[:, \"domain_st_bin\":\"domain_ed_bin\"].values"
   ]
  },
  {
   "cell_type": "code",
   "execution_count": null,
   "metadata": {},
   "outputs": [],
   "source": []
  },
  {
   "cell_type": "markdown",
   "metadata": {},
   "source": [
    "### Format conversions test\n"
   ]
  },
  {
   "cell_type": "code",
   "execution_count": 15,
   "metadata": {},
   "outputs": [],
   "source": [
    "import TADcalling\n",
    "IS = TADcalling.CallerClasses.InsulationCaller(['S2'], ['../data/S2.20000.cool'], 'cool', assembly='dm3', resolution=20000, balance=True, chr='chr2L')"
   ]
  },
  {
   "cell_type": "code",
   "execution_count": null,
   "metadata": {},
   "outputs": [],
   "source": [
    "IS.convert_files('hic', juicer_path='../juicer_tools.1.8.9_jcuda.0.8.jar', remove_intermediary_files=False)"
   ]
  },
  {
   "cell_type": "code",
   "execution_count": null,
   "metadata": {},
   "outputs": [],
   "source": [
    "IS.convert_files('h5')"
   ]
  }
 ],
 "metadata": {
  "kernelspec": {
   "display_name": "distiller-editable",
   "language": "python",
   "name": "distiller-editable"
  },
  "language_info": {
   "codemirror_mode": {
    "name": "ipython",
    "version": 3
   },
   "file_extension": ".py",
   "mimetype": "text/x-python",
   "name": "python",
   "nbconvert_exporter": "python",
   "pygments_lexer": "ipython3",
   "version": "3.6.3"
  }
 },
 "nbformat": 4,
 "nbformat_minor": 2
}
